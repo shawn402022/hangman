{
 "cells": [
  {
   "cell_type": "markdown",
   "metadata": {},
   "source": [
    "**Create a Letter Guessing Game**\n",
    "\n",
    "Create a program that allows a user 7 chances to guess the correct word. If they do not guess the word after 7 tries, the player loses and the program will print the correct word. Otherwise, the play wins and the game.\n",
    "\n",
    "**How to build the program**\n",
    "* When you start the game, you will need to select a random word from a list of at least 10 words (You have full control over which words you want to use for you program). This will be your secret word. Your secret word will be represented in the program as a group of underscores. For as long as the word is, you should also have that many underscores. \n",
    "\n",
    "* Once the word is selected, your game will commence. Perform a Google search to figure out how to select a random word from a list using Python.<br>\n",
    "**Hint** There's package you can import into your application that does this for you.\n",
    "\n",
    "* The end user will have a total of 7 chances to guess the correct letter from the secret word. If the end user makes 7 incorrect guesses, the game will end.\n",
    "\n",
    "* As you guess the correct letters, the letters you have guess will then take place of the underscores that letter represents. <br>\n",
    "**For Example**: If your secret word is 'watermelon' and  so far you have guessed the letters 'a' and 'e', the word you're trying to guess will appear as follows: _ a _ e _ _ e _ _ _.<br>\n",
    "**Keep in mind** that if you guess a letter that appears more than once in your secret word, make sure that the letter is populated anywhere that letter would be."
   ]
  },
  {
   "cell_type": "code",
   "execution_count": null,
   "metadata": {},
   "outputs": [],
   "source": [
    "# 1. Make a program that selects a word from a list of words\n",
    "\n",
    "# 2. From each category, select a random word\n",
    "\n",
    "# 3. Accept user input that asks the user to type in a category\n",
    "\n",
    "# randomly_selected_word = \"orange\"\n",
    "\n",
    "# 4. _ _ _ _ _ _\n",
    "\n",
    "# 5. if you make a correct choice = \"o\" => o _ _ _ _ _\n",
    "\n",
    "\n",
    "# randomly_selected_word = \"watermelon\"\n",
    "\n",
    "# 6. _ _ _ _ _ _ _ _ _ _ _\n",
    "\n",
    "# 7. if you make a correct choice = \"e\" => _ _ _ e _ _ e _ _ _\n",
    "\n",
    "# 8. 7 attempts\n",
    "\n",
    "# 9. if you exhausted all 7 choices, show the correct word "
   ]
  },
  {
   "cell_type": "code",
   "execution_count": null,
   "metadata": {},
   "outputs": [],
   "source": []
  }
 ],
 "metadata": {
  "kernelspec": {
   "display_name": "Python 3",
   "language": "python",
   "name": "python3"
  },
  "language_info": {
   "codemirror_mode": {
    "name": "ipython",
    "version": 3
   },
   "file_extension": ".py",
   "mimetype": "text/x-python",
   "name": "python",
   "nbconvert_exporter": "python",
   "pygments_lexer": "ipython3",
   "version": "3.9.7"
  }
 },
 "nbformat": 4,
 "nbformat_minor": 2
}
