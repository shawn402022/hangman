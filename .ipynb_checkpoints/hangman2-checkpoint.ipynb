{
 "cells": [
  {
   "cell_type": "markdown",
   "metadata": {},
   "source": [
    "**Create a Letter Guessing Game**\n",
    "\n",
    "Create a program that allows a user 7 chances to guess the correct word. If they do not guess the word after 7 tries, the player loses and the program will print the correct word. Otherwise, the play wins and the game.\n",
    "\n",
    "**How to build the program**\n",
    "* When you start the game, you will need to select a random word from a list of at least 10 words (You have full control over which words you want to use for you program). This will be your secret word. Your secret word will be represented in the program as a group of underscores. For as long as the word is, you should also have that many underscores. \n",
    "\n",
    "* Once the word is selected, your game will commence. Perform a Google search to figure out how to select a random word from a list using Python.<br>\n",
    "**Hint** There's package you can import into your application that does this for you.\n",
    "\n",
    "* The end user will have a total of 7 chances to guess the correct letter from the secret word. If the end user makes 7 incorrect guesses, the game will end.\n",
    "\n",
    "* As you guess the correct letters, the letters you have guess will then take place of the underscores that letter represents. <br>\n",
    "**For Example**: If your secret word is 'watermelon' and  so far you have guessed the letters 'a' and 'e', the word you're trying to guess will appear as follows: _ a _ e _ _ e _ _ _.<br>\n",
    "**Keep in mind** that if you guess a letter that appears more than once in your secret word, make sure that the letter is populated anywhere that letter would be."
   ]
  },
  {
   "cell_type": "code",
   "execution_count": null,
   "metadata": {},
   "outputs": [],
   "source": [
    "# 1. Make a program that selects a word from a list of words\n",
    "\n",
    "# 2. From each category, select a random word\n",
    "\n",
    "# 3. Accept user input that asks the user to type in a category\n",
    "\n",
    "# randomly_selected_word = \"orange\"\n",
    "\n",
    "# 4. _ _ _ _ _ _\n",
    "\n",
    "# 5. if you make a correct choice = \"o\" => o _ _ _ _ _\n",
    "\n",
    "\n",
    "# randomly_selected_word = \"watermelon\"\n",
    "\n",
    "# 6. _ _ _ _ _ _ _ _ _ _ _\n",
    "\n",
    "# 7. if you make a correct choice = \"e\" => _ _ _ e _ _ e _ _ _\n",
    "\n",
    "# 8. 7 attempts\n",
    "\n",
    "# 9. if you exhausted all 7 choices, show the correct word "
   ]
  },
  {
   "cell_type": "code",
   "execution_count": 4,
   "metadata": {},
   "outputs": [
    {
     "ename": "NameError",
     "evalue": "name 'x' is not defined",
     "output_type": "error",
     "traceback": [
      "\u001b[1;31m---------------------------------------------------------------------------\u001b[0m",
      "\u001b[1;31mNameError\u001b[0m                                 Traceback (most recent call last)",
      "Input \u001b[1;32mIn [4]\u001b[0m, in \u001b[0;36m<cell line: 4>\u001b[1;34m()\u001b[0m\n\u001b[0;32m      1\u001b[0m l_1 \u001b[38;5;241m=\u001b[39m [\u001b[38;5;124m'\u001b[39m\u001b[38;5;124mlion\u001b[39m\u001b[38;5;124m'\u001b[39m,\u001b[38;5;124m'\u001b[39m\u001b[38;5;124mbear\u001b[39m\u001b[38;5;124m'\u001b[39m,\u001b[38;5;124m'\u001b[39m\u001b[38;5;124mtiger\u001b[39m\u001b[38;5;124m'\u001b[39m,\u001b[38;5;124m'\u001b[39m\u001b[38;5;124melephant\u001b[39m\u001b[38;5;124m'\u001b[39m,\u001b[38;5;124m'\u001b[39m\u001b[38;5;124mmonkey\u001b[39m\u001b[38;5;124m'\u001b[39m,\u001b[38;5;124m'\u001b[39m\u001b[38;5;124mrabbit\u001b[39m\u001b[38;5;124m'\u001b[39m]\n\u001b[0;32m      2\u001b[0m l_2 \u001b[38;5;241m=\u001b[39m [\u001b[38;5;124m'\u001b[39m\u001b[38;5;124mgrape\u001b[39m\u001b[38;5;124m'\u001b[39m,\u001b[38;5;124m'\u001b[39m\u001b[38;5;124mpear\u001b[39m\u001b[38;5;124m'\u001b[39m,\u001b[38;5;124m'\u001b[39m\u001b[38;5;124mstrawberry\u001b[39m\u001b[38;5;124m'\u001b[39m,\u001b[38;5;124m'\u001b[39m\u001b[38;5;124mlemon\u001b[39m\u001b[38;5;124m'\u001b[39m,\u001b[38;5;124m'\u001b[39m\u001b[38;5;124mlime\u001b[39m\u001b[38;5;124m'\u001b[39m,\u001b[38;5;124m'\u001b[39m\u001b[38;5;124mcherry\u001b[39m\u001b[38;5;124m'\u001b[39m,]\n\u001b[1;32m----> 4\u001b[0m enum_a \u001b[38;5;241m=\u001b[39m \u001b[38;5;28menumerate\u001b[39m(\u001b[43mx\u001b[49m,\u001b[38;5;241m0\u001b[39m)\n\u001b[0;32m      5\u001b[0m result \u001b[38;5;241m=\u001b[39m \u001b[38;5;28mmap\u001b[39m(enum_a,l_1,l_2)\n\u001b[0;32m      7\u001b[0m \u001b[38;5;28mprint\u001b[39m(\u001b[38;5;28mtuple\u001b[39m(result))\n",
      "\u001b[1;31mNameError\u001b[0m: name 'x' is not defined"
     ]
    }
   ],
   "source": [
    "l_1 = ['lion','bear','tiger','elephant','monkey','rabbit']\n",
    "l_2 = ['grape','pear','strawberry','lemon','lime','cherry',]\n",
    "\n",
    "enum_a = enumerate(l_1,0)\n",
    "enum_b = enumerate(l_2,0)\n",
    "result = map(enum_a,l_1,l_2)\n",
    "\n",
    "print(tuple(result))\n"
   ]
  },
  {
   "cell_type": "code",
   "execution_count": 1,
   "metadata": {},
   "outputs": [
    {
     "name": "stdout",
     "output_type": "stream",
     "text": [
      "Choose category. press '1' for Animals, press '2' for fruit: 1\n",
      "<enumerate object at 0x000001C1130F0180>\n",
      "<enumerate object at 0x000001C1130F0AC0>\n"
     ]
    }
   ],
   "source": [
    "import random\n",
    "\n",
    "\n",
    "def word_choice():\n",
    "    result = map(enum_a,l_1,l_2)\n",
    "#     enum_a = enumerate(a)\n",
    "#     enum_f = enumerate(f)\n",
    "    enum_w = enumerate(a)\n",
    "    enum_s = enumerate(f)\n",
    "    a = ['lion','bear','tiger','elephant','monkey','rabbit']\n",
    "    f = ['grape','pear','strawberry','lemon','lime','cherry',]\n",
    "    word_dict = {}\n",
    "    space_dict = {}\n",
    "\n",
    "    \n",
    "    \n",
    "    \n",
    "    category =input(\"Choose category. press '1' for Animals, press '2' for fruit: \")\n",
    "    if category == '1': \n",
    "        w = random.choice(a)\n",
    "        s = '_'*len(w\n",
    "\n",
    "\n",
    "    elif category == '2':\n",
    "        w = random.choice(f)\n",
    "        s = '_'*len(w)\n",
    "                    \n",
    "    for i in enumerate(w):\n",
    "        \n",
    "                    \n",
    "                \n",
    "                \n",
    "\n",
    "\n",
    "        \n",
    "    return\n",
    "\n",
    "\n",
    "        \n",
    "word_choice()\n",
    "    \n",
    "    \n",
    "# def op():\n",
    "    \n",
    "#     game_on = False\n",
    "#     tries = 7\n",
    "\n",
    "    \n",
    "    \n",
    "#     while not game_on:\n",
    "#         print(e_word)\n",
    "#         guess = input('guess the letter in the word')\n",
    "        \n",
    "        \n",
    "        \n",
    "    \n",
    "\n",
    "\n"
   ]
  },
  {
   "cell_type": "code",
   "execution_count": 2,
   "metadata": {},
   "outputs": [
    {
     "name": "stdout",
     "output_type": "stream",
     "text": [
      "Choose category. press '1' for Animals, press '2' for fruit: 1\n"
     ]
    },
    {
     "ename": "NameError",
     "evalue": "name 'e_word' is not defined",
     "output_type": "error",
     "traceback": [
      "\u001b[1;31m---------------------------------------------------------------------------\u001b[0m",
      "\u001b[1;31mNameError\u001b[0m                                 Traceback (most recent call last)",
      "Input \u001b[1;32mIn [2]\u001b[0m, in \u001b[0;36m<cell line: 7>\u001b[1;34m()\u001b[0m\n\u001b[0;32m      3\u001b[0m     op()\n\u001b[0;32m      4\u001b[0m \u001b[38;5;66;03m#     print(e_word)\u001b[39;00m\n\u001b[0;32m      5\u001b[0m \u001b[38;5;66;03m#     print(e_space)\u001b[39;00m\n\u001b[1;32m----> 7\u001b[0m \u001b[43mhangman\u001b[49m\u001b[43m(\u001b[49m\u001b[43m)\u001b[49m\n",
      "Input \u001b[1;32mIn [2]\u001b[0m, in \u001b[0;36mhangman\u001b[1;34m()\u001b[0m\n\u001b[0;32m      1\u001b[0m \u001b[38;5;28;01mdef\u001b[39;00m \u001b[38;5;21mhangman\u001b[39m():\n\u001b[0;32m      2\u001b[0m     word_choice()\n\u001b[1;32m----> 3\u001b[0m     \u001b[43mop\u001b[49m\u001b[43m(\u001b[49m\u001b[43m)\u001b[49m\n",
      "Input \u001b[1;32mIn [1]\u001b[0m, in \u001b[0;36mop\u001b[1;34m()\u001b[0m\n\u001b[0;32m     41\u001b[0m tries \u001b[38;5;241m=\u001b[39m \u001b[38;5;241m7\u001b[39m\n\u001b[0;32m     45\u001b[0m \u001b[38;5;28;01mwhile\u001b[39;00m \u001b[38;5;129;01mnot\u001b[39;00m game_on:\n\u001b[1;32m---> 46\u001b[0m     \u001b[38;5;28mprint\u001b[39m(\u001b[43me_word\u001b[49m)\n\u001b[0;32m     47\u001b[0m     guess \u001b[38;5;241m=\u001b[39m \u001b[38;5;28minput\u001b[39m(\u001b[38;5;124m'\u001b[39m\u001b[38;5;124mguess the letter in the word\u001b[39m\u001b[38;5;124m'\u001b[39m)\n",
      "\u001b[1;31mNameError\u001b[0m: name 'e_word' is not defined"
     ]
    }
   ],
   "source": [
    "def hangman():\n",
    "    word_choice()\n",
    "    op()\n",
    "    print(e_word)\n",
    "    print(e_space)\n",
    "    \n",
    "hangman()"
   ]
  },
  {
   "cell_type": "code",
   "execution_count": null,
   "metadata": {},
   "outputs": [],
   "source": []
  }
 ],
 "metadata": {
  "kernelspec": {
   "display_name": "Python 3 (ipykernel)",
   "language": "python",
   "name": "python3"
  },
  "language_info": {
   "codemirror_mode": {
    "name": "ipython",
    "version": 3
   },
   "file_extension": ".py",
   "mimetype": "text/x-python",
   "name": "python",
   "nbconvert_exporter": "python",
   "pygments_lexer": "ipython3",
   "version": "3.9.12"
  }
 },
 "nbformat": 4,
 "nbformat_minor": 2
}
